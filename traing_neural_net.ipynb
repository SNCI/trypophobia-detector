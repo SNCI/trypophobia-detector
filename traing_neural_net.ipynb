{
 "cells": [
  {
   "cell_type": "code",
   "execution_count": 1,
   "metadata": {
    "collapsed": false
   },
   "outputs": [
    {
     "name": "stderr",
     "output_type": "stream",
     "text": [
      "Using Theano backend.\n"
     ]
    }
   ],
   "source": [
    "%matplotlib inline\n",
    "import cv2\n",
    "from theano import *\n",
    "theano.config.openmp = True\n",
    "\n",
    "from keras.optimizers import SGD\n",
    "from keras.models import Sequential\n",
    "from keras.layers import Convolution2D, MaxPooling2D, ZeroPadding2D, GlobalMaxPooling2D\n",
    "from keras.layers import Activation, Dropout, Flatten, Dense\n",
    "from keras.preprocessing.image import ImageDataGenerator\n",
    "\n",
    "import h5py\n",
    "import numpy as np\n",
    "import seaborn as sns\n",
    "import os\n",
    "import sys\n",
    "from tqdm import tqdm\n",
    "import matplotlib.pyplot as plt\n",
    "from sklearn.model_selection import train_test_split\n",
    "from keras.applications.vgg16 import VGG16"
   ]
  },
  {
   "cell_type": "code",
   "execution_count": 2,
   "metadata": {
    "collapsed": false
   },
   "outputs": [],
   "source": [
    "fobia_folder = \"./trypophobic/\"\n",
    "normal_folder = \"./data_train/reddit_sub_pics/\"\n",
    "resolution_x = 224\n",
    "resolution_y = 224"
   ]
  },
  {
   "cell_type": "code",
   "execution_count": 3,
   "metadata": {
    "collapsed": false
   },
   "outputs": [
    {
     "name": "stdout",
     "output_type": "stream",
     "text": [
      "Found 1560 images belonging to 2 classes.\n",
      "Found 320 images belonging to 2 classes.\n"
     ]
    }
   ],
   "source": [
    "train_datagen = ImageDataGenerator(rescale=1./255,# rotation_range=20, horizontal_flip=True, \n",
    "                                   dim_ordering='th',\n",
    "                                  zca_whitening=False, featurewise_center=False, featurewise_std_normalization=False)\n",
    "train_data_generator = train_datagen.flow_from_directory('data_train/',\n",
    "                                            target_size=(resolution_x, resolution_y),\n",
    "                                            batch_size=8,\n",
    "                                            class_mode=None,\n",
    "                                            shuffle = False,\n",
    "                                            classes=['non-trypophobic','trypophobic'])\n",
    "\n",
    "test_datagen = ImageDataGenerator(rescale=1./255, dim_ordering='th',\n",
    "                                 zca_whitening=False, featurewise_center=False, featurewise_std_normalization=False)\n",
    "test_data_generator = test_datagen.flow_from_directory('data_valid/',\n",
    "                                            target_size=(resolution_x, resolution_y),\n",
    "                                            batch_size=8,\n",
    "                                            class_mode=None,\n",
    "                                            shuffle = False,\n",
    "                                            classes=['non-trypophobic','trypophobic'])"
   ]
  },
  {
   "cell_type": "code",
   "execution_count": null,
   "metadata": {
    "collapsed": false
   },
   "outputs": [],
   "source": []
  },
  {
   "cell_type": "code",
   "execution_count": null,
   "metadata": {
    "collapsed": true
   },
   "outputs": [],
   "source": []
  },
  {
   "cell_type": "code",
   "execution_count": null,
   "metadata": {
    "collapsed": false
   },
   "outputs": [],
   "source": []
  },
  {
   "cell_type": "code",
   "execution_count": 4,
   "metadata": {
    "collapsed": false
   },
   "outputs": [],
   "source": [
    "def VGG_16(weights_path=None, num_of_conv_blocks = 1):\n",
    "    \n",
    "    model = Sequential()\n",
    "    i = 0\n",
    "    while(True):\n",
    "        model.add(ZeroPadding2D((1,1),input_shape=(3,224,224)))\n",
    "        model.add(Convolution2D(64, 3, 3, activation='relu'))\n",
    "        model.add(ZeroPadding2D((1,1)))\n",
    "        model.add(Convolution2D(64, 3, 3, activation='relu'))\n",
    "        model.add(MaxPooling2D((2,2), strides=(2,2)))\n",
    "        \n",
    "        i+=1\n",
    "        if(i == num_of_conv_blocks):\n",
    "            break\n",
    "        \n",
    "        model.add(ZeroPadding2D((1,1)))\n",
    "        model.add(Convolution2D(128, 3, 3, activation='relu'))\n",
    "        model.add(ZeroPadding2D((1,1)))\n",
    "        model.add(Convolution2D(128, 3, 3, activation='relu'))\n",
    "        model.add(MaxPooling2D((2,2), strides=(2,2)))\n",
    "        \n",
    "        i+=1\n",
    "        if(i == num_of_conv_blocks):\n",
    "            break\n",
    "\n",
    "        model.add(ZeroPadding2D((1,1)))\n",
    "        model.add(Convolution2D(256, 3, 3, activation='relu'))\n",
    "        model.add(ZeroPadding2D((1,1)))\n",
    "        model.add(Convolution2D(256, 3, 3, activation='relu'))\n",
    "        model.add(ZeroPadding2D((1,1)))\n",
    "        model.add(Convolution2D(256, 3, 3, activation='relu'))\n",
    "        model.add(MaxPooling2D((2,2), strides=(2,2)))\n",
    "        \n",
    "        i+=1\n",
    "        if(i == num_of_conv_blocks):\n",
    "            break\n",
    "\n",
    "        model.add(ZeroPadding2D((1,1)))\n",
    "        model.add(Convolution2D(512, 3, 3, activation='relu'))\n",
    "        model.add(ZeroPadding2D((1,1)))\n",
    "        model.add(Convolution2D(512, 3, 3, activation='relu'))\n",
    "        model.add(ZeroPadding2D((1,1)))\n",
    "        model.add(Convolution2D(512, 3, 3, activation='relu'))\n",
    "        model.add(MaxPooling2D((2,2), strides=(2,2)))\n",
    "        \n",
    "        i+=1\n",
    "        if(i == num_of_conv_blocks):\n",
    "            break\n",
    "\n",
    "        model.add(ZeroPadding2D((1,1)))\n",
    "        model.add(Convolution2D(512, 3, 3, activation='relu'))\n",
    "        model.add(ZeroPadding2D((1,1)))\n",
    "        model.add(Convolution2D(512, 3, 3, activation='relu'))\n",
    "        model.add(ZeroPadding2D((1,1)))\n",
    "        model.add(Convolution2D(512, 3, 3, activation='relu'))\n",
    "        model.add(MaxPooling2D((2,2), strides=(2,2)))\n",
    "        \n",
    "        break\n",
    "\n",
    "    f = h5py.File(weights_path)\n",
    "    for k in range(f.attrs['nb_layers']):\n",
    "        if k >= len(model.layers):\n",
    "            # we don't look at the last (fully-connected) layers in the savefile\n",
    "            break\n",
    "        g = f['layer_{}'.format(k)]\n",
    "        weights = [g['param_{}'.format(p)] for p in range(g.attrs['nb_params'])]\n",
    "        model.layers[k].set_weights(weights)\n",
    "        model.layers[k].trainable = False\n",
    "    f.close()\n",
    "    print('Model loaded.')\n",
    "    \n",
    "    #model.add(Flatten())\n",
    "    #model.add(Dense(4096, activation='relu'))\n",
    "    #model.add(Dropout(0.5))\n",
    "    #model.add(Dense(4096, activation='relu'))\n",
    "    #model.add(Dropout(0.5))\n",
    "    #model.add(Dense(1000, activation='softmax'))\n",
    "\n",
    "    return model\n",
    "\n",
    "#sgd = \"adam\"#SGD(lr=0.1, decay=1e-6, momentum=0.9, nesterov=True)\n",
    "#model.compile(optimizer=sgd, loss='binary_crossentropy', metrics=['accuracy'])"
   ]
  },
  {
   "cell_type": "code",
   "execution_count": 5,
   "metadata": {
    "collapsed": false
   },
   "outputs": [
    {
     "name": "stdout",
     "output_type": "stream",
     "text": [
      "Model loaded.\n",
      "      OPERATION           DATA DIMENSIONS   WEIGHTS(N)   WEIGHTS(%)\n",
      "\n",
      "          Input   #####   (3, 224, 224)\n",
      "  ZeroPadding2D   \\|||/ -------------------         0     0.0%\n",
      "                  #####   (3, 226, 226)\n",
      "  Convolution2D    \\|/  -------------------      1792     0.0%\n",
      "           relu   #####   (64, 224, 224)\n",
      "  ZeroPadding2D   \\|||/ -------------------         0     0.0%\n",
      "                  #####   (64, 226, 226)\n",
      "  Convolution2D    \\|/  -------------------     36928     0.3%\n",
      "           relu   #####   (64, 224, 224)\n",
      "   MaxPooling2D   YYYYY -------------------         0     0.0%\n",
      "                  #####   (64, 112, 112)\n",
      "  ZeroPadding2D   \\|||/ -------------------         0     0.0%\n",
      "                  #####   (64, 114, 114)\n",
      "  Convolution2D    \\|/  -------------------     73856     0.5%\n",
      "           relu   #####   (128, 112, 112)\n",
      "  ZeroPadding2D   \\|||/ -------------------         0     0.0%\n",
      "                  #####   (128, 114, 114)\n",
      "  Convolution2D    \\|/  -------------------    147584     1.0%\n",
      "           relu   #####   (128, 112, 112)\n",
      "   MaxPooling2D   YYYYY -------------------         0     0.0%\n",
      "                  #####   (128, 56, 56)\n",
      "  ZeroPadding2D   \\|||/ -------------------         0     0.0%\n",
      "                  #####   (128, 58, 58)\n",
      "  Convolution2D    \\|/  -------------------    295168     2.0%\n",
      "           relu   #####   (256, 56, 56)\n",
      "  ZeroPadding2D   \\|||/ -------------------         0     0.0%\n",
      "                  #####   (256, 58, 58)\n",
      "  Convolution2D    \\|/  -------------------    590080     4.0%\n",
      "           relu   #####   (256, 56, 56)\n",
      "  ZeroPadding2D   \\|||/ -------------------         0     0.0%\n",
      "                  #####   (256, 58, 58)\n",
      "  Convolution2D    \\|/  -------------------    590080     4.0%\n",
      "           relu   #####   (256, 56, 56)\n",
      "   MaxPooling2D   YYYYY -------------------         0     0.0%\n",
      "                  #####   (256, 28, 28)\n",
      "  ZeroPadding2D   \\|||/ -------------------         0     0.0%\n",
      "                  #####   (256, 30, 30)\n",
      "  Convolution2D    \\|/  -------------------   1180160     8.0%\n",
      "           relu   #####   (512, 28, 28)\n",
      "  ZeroPadding2D   \\|||/ -------------------         0     0.0%\n",
      "                  #####   (512, 30, 30)\n",
      "  Convolution2D    \\|/  -------------------   2359808    16.0%\n",
      "           relu   #####   (512, 28, 28)\n",
      "  ZeroPadding2D   \\|||/ -------------------         0     0.0%\n",
      "                  #####   (512, 30, 30)\n",
      "  Convolution2D    \\|/  -------------------   2359808    16.0%\n",
      "           relu   #####   (512, 28, 28)\n",
      "   MaxPooling2D   YYYYY -------------------         0     0.0%\n",
      "                  #####   (512, 14, 14)\n",
      "  ZeroPadding2D   \\|||/ -------------------         0     0.0%\n",
      "                  #####   (512, 16, 16)\n",
      "  Convolution2D    \\|/  -------------------   2359808    16.0%\n",
      "           relu   #####   (512, 14, 14)\n",
      "  ZeroPadding2D   \\|||/ -------------------         0     0.0%\n",
      "                  #####   (512, 16, 16)\n",
      "  Convolution2D    \\|/  -------------------   2359808    16.0%\n",
      "           relu   #####   (512, 14, 14)\n",
      "  ZeroPadding2D   \\|||/ -------------------         0     0.0%\n",
      "                  #####   (512, 16, 16)\n",
      "  Convolution2D    \\|/  -------------------   2359808    16.0%\n",
      "           relu   #####   (512, 14, 14)\n",
      "   MaxPooling2D   YYYYY -------------------         0     0.0%\n",
      "                  #####   (512, 7, 7)\n"
     ]
    }
   ],
   "source": [
    "#Get the pre-trained vgg model\n",
    "vgg_model = VGG_16('vgg16_weights.h5', 5)\n",
    "\n",
    "from keras_sequential_ascii import sequential_model_to_ascii_printout\n",
    "sequential_model_to_ascii_printout(vgg_model)"
   ]
  },
  {
   "cell_type": "code",
   "execution_count": 6,
   "metadata": {
    "collapsed": true
   },
   "outputs": [],
   "source": [
    "def predict_generator_status(model, generator, number):\n",
    "    res = []\n",
    "    num = 0\n",
    "    for batch in tqdm(generator):\n",
    "        batch_res = model.predict_on_batch(batch)\n",
    "        for prediction in batch_res:\n",
    "            res.append(prediction)\n",
    "        num+=generator.batch_size\n",
    "        \n",
    "        if num >= number:\n",
    "            break\n",
    "    return np.array(res)"
   ]
  },
  {
   "cell_type": "code",
   "execution_count": 8,
   "metadata": {
    "collapsed": false
   },
   "outputs": [
    {
     "name": "stderr",
     "output_type": "stream",
     "text": [
      "1it [00:45, 45.76s/it]\n"
     ]
    },
    {
     "data": {
      "text/plain": [
       "(16, 512, 7, 7)"
      ]
     },
     "execution_count": 8,
     "metadata": {},
     "output_type": "execute_result"
    }
   ],
   "source": []
  },
  {
   "cell_type": "code",
   "execution_count": null,
   "metadata": {
    "collapsed": false
   },
   "outputs": [
    {
     "name": "stderr",
     "output_type": "stream",
     "text": [
      "32it [26:46, 49.44s/it]"
     ]
    }
   ],
   "source": [
    "# Calculate bottleneck features of vgg model\n",
    "bottleneck_features_train = predict_generator_status(vgg_model, train_data_generator, 1560)\n",
    "np.save(open('bottleneck_features_train.npy', 'wb'), bottleneck_features_train)\n",
    "\n",
    "print(\"Train data processed\")\n",
    "\n",
    "bottleneck_features_validation = predict_generator_status(vgg_model, test_data_generator, 320)\n",
    "np.save(open('bottleneck_features_validation.npy', 'wb'), bottleneck_features_validation)\n",
    "\n",
    "print(\"Test data processed\")"
   ]
  },
  {
   "cell_type": "code",
   "execution_count": null,
   "metadata": {
    "collapsed": false
   },
   "outputs": [],
   "source": [
    "bottleneck_features_train.shape"
   ]
  },
  {
   "cell_type": "code",
   "execution_count": null,
   "metadata": {
    "collapsed": false
   },
   "outputs": [],
   "source": [
    "model.fit_generator(nb_val_samples=320, samples_per_epoch=1560, nb_epoch=5,\n",
    "                    generator=train_data_generator,\n",
    "                    validation_data=test_data_generator)"
   ]
  },
  {
   "cell_type": "code",
   "execution_count": null,
   "metadata": {
    "collapsed": false
   },
   "outputs": [],
   "source": [
    "model.save(\"pretraining.h5\")"
   ]
  },
  {
   "cell_type": "code",
   "execution_count": null,
   "metadata": {
    "collapsed": false
   },
   "outputs": [],
   "source": [
    "weights = model.layers[0].W.get_value(borrow=True).reshape(8,10,10,3)\n",
    "print (weights.shape)\n",
    "fig, axes = plt.subplots(2,8, sharex=True, sharey=True)\n",
    "plt.rcParams['figure.figsize'] = (10,5)\n",
    "for i,w in enumerate(weights):\n",
    "    axes[int(i/8)][int(i%8)].imshow(w)\n",
    "    if(i == 31):\n",
    "        break\n",
    "plt.show()"
   ]
  },
  {
   "cell_type": "code",
   "execution_count": null,
   "metadata": {
    "collapsed": false
   },
   "outputs": [],
   "source": [
    "np.random.seed(4)\n",
    "sample_image = X_test[np.random.randint(0, len(X_test))]\n",
    "plt.imshow(sample_image.reshape(resolution_x, resolution_y, 3))\n",
    "plt.show()"
   ]
  },
  {
   "cell_type": "code",
   "execution_count": null,
   "metadata": {
    "collapsed": false
   },
   "outputs": [],
   "source": [
    "convout1_f = theano.function(model.inputs, [model.layers[1].output])\n",
    "sample_outs = convout1_f([sample_image.astype(np.float32)])[0][0]\n",
    "\n",
    "fig, axes = plt.subplots(4,8, sharex=True, sharey=True)\n",
    "plt.rcParams['figure.figsize'] = (10, 5)\n",
    "for i,w in enumerate(sample_outs):\n",
    "    axes[int(i/8)][int(i%8)].imshow(w, cmap=\"gray\")\n",
    "    #sns.heatmap(w)\n",
    "    #plt.show()\n",
    "plt.show()"
   ]
  },
  {
   "cell_type": "code",
   "execution_count": null,
   "metadata": {
    "collapsed": true
   },
   "outputs": [],
   "source": []
  }
 ],
 "metadata": {
  "kernelspec": {
   "display_name": "Python 3",
   "language": "python",
   "name": "python3"
  },
  "language_info": {
   "codemirror_mode": {
    "name": "ipython",
    "version": 3
   },
   "file_extension": ".py",
   "mimetype": "text/x-python",
   "name": "python",
   "nbconvert_exporter": "python",
   "pygments_lexer": "ipython3",
   "version": "3.6.0"
  }
 },
 "nbformat": 4,
 "nbformat_minor": 2
}
